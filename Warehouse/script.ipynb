{
 "cells": [
  {
   "cell_type": "code",
   "execution_count": 1,
   "metadata": {},
   "outputs": [],
   "source": [
    "import numpy as np\n",
    "import pandas as pd\n",
    "import matplotlib.pyplot as plt\n"
   ]
  },
  {
   "cell_type": "code",
   "execution_count": 2,
   "metadata": {},
   "outputs": [
    {
     "data": {
      "text/html": [
       "<div>\n",
       "<style scoped>\n",
       "    .dataframe tbody tr th:only-of-type {\n",
       "        vertical-align: middle;\n",
       "    }\n",
       "\n",
       "    .dataframe tbody tr th {\n",
       "        vertical-align: top;\n",
       "    }\n",
       "\n",
       "    .dataframe thead th {\n",
       "        text-align: right;\n",
       "    }\n",
       "</style>\n",
       "<table border=\"1\" class=\"dataframe\">\n",
       "  <thead>\n",
       "    <tr style=\"text-align: right;\">\n",
       "      <th></th>\n",
       "      <th>YEAR</th>\n",
       "      <th>MONTH</th>\n",
       "      <th>SUPPLIER</th>\n",
       "      <th>ITEM CODE</th>\n",
       "      <th>ITEM DESCRIPTION</th>\n",
       "      <th>ITEM TYPE</th>\n",
       "      <th>RETAIL SALES</th>\n",
       "      <th>RETAIL TRANSFERS</th>\n",
       "      <th>WAREHOUSE SALES</th>\n",
       "    </tr>\n",
       "  </thead>\n",
       "  <tbody>\n",
       "    <tr>\n",
       "      <th>0</th>\n",
       "      <td>2017</td>\n",
       "      <td>4</td>\n",
       "      <td>ROYAL WINE CORP</td>\n",
       "      <td>100200</td>\n",
       "      <td>GAMLA CAB - 750ML</td>\n",
       "      <td>WINE</td>\n",
       "      <td>0.00</td>\n",
       "      <td>1.0</td>\n",
       "      <td>0.0</td>\n",
       "    </tr>\n",
       "    <tr>\n",
       "      <th>1</th>\n",
       "      <td>2017</td>\n",
       "      <td>4</td>\n",
       "      <td>SANTA MARGHERITA USA INC</td>\n",
       "      <td>100749</td>\n",
       "      <td>SANTA MARGHERITA P/GRIG ALTO - 375ML</td>\n",
       "      <td>WINE</td>\n",
       "      <td>0.00</td>\n",
       "      <td>1.0</td>\n",
       "      <td>0.0</td>\n",
       "    </tr>\n",
       "    <tr>\n",
       "      <th>2</th>\n",
       "      <td>2017</td>\n",
       "      <td>4</td>\n",
       "      <td>JIM BEAM BRANDS CO</td>\n",
       "      <td>10103</td>\n",
       "      <td>KNOB CREEK BOURBON 9YR - 100P - 375ML</td>\n",
       "      <td>LIQUOR</td>\n",
       "      <td>0.00</td>\n",
       "      <td>8.0</td>\n",
       "      <td>0.0</td>\n",
       "    </tr>\n",
       "    <tr>\n",
       "      <th>3</th>\n",
       "      <td>2017</td>\n",
       "      <td>4</td>\n",
       "      <td>HEAVEN HILL DISTILLERIES INC</td>\n",
       "      <td>10120</td>\n",
       "      <td>J W DANT BOURBON 100P - 1.75L</td>\n",
       "      <td>LIQUOR</td>\n",
       "      <td>0.00</td>\n",
       "      <td>2.0</td>\n",
       "      <td>0.0</td>\n",
       "    </tr>\n",
       "    <tr>\n",
       "      <th>4</th>\n",
       "      <td>2017</td>\n",
       "      <td>4</td>\n",
       "      <td>ROYAL WINE CORP</td>\n",
       "      <td>101664</td>\n",
       "      <td>RAMON CORDOVA RIOJA - 750ML</td>\n",
       "      <td>WINE</td>\n",
       "      <td>0.00</td>\n",
       "      <td>4.0</td>\n",
       "      <td>0.0</td>\n",
       "    </tr>\n",
       "    <tr>\n",
       "      <th>...</th>\n",
       "      <td>...</td>\n",
       "      <td>...</td>\n",
       "      <td>...</td>\n",
       "      <td>...</td>\n",
       "      <td>...</td>\n",
       "      <td>...</td>\n",
       "      <td>...</td>\n",
       "      <td>...</td>\n",
       "      <td>...</td>\n",
       "    </tr>\n",
       "    <tr>\n",
       "      <th>128350</th>\n",
       "      <td>2018</td>\n",
       "      <td>2</td>\n",
       "      <td>ANHEUSER BUSCH INC</td>\n",
       "      <td>9997</td>\n",
       "      <td>HOEGAARDEN 4/6NR - 12OZ</td>\n",
       "      <td>BEER</td>\n",
       "      <td>66.46</td>\n",
       "      <td>59.0</td>\n",
       "      <td>212.0</td>\n",
       "    </tr>\n",
       "    <tr>\n",
       "      <th>128351</th>\n",
       "      <td>2018</td>\n",
       "      <td>2</td>\n",
       "      <td>COASTAL BREWING COMPANY LLC</td>\n",
       "      <td>99970</td>\n",
       "      <td>DOMINION OAK BARREL STOUT 4/6 NR - 12OZ</td>\n",
       "      <td>BEER</td>\n",
       "      <td>9.08</td>\n",
       "      <td>7.0</td>\n",
       "      <td>35.0</td>\n",
       "    </tr>\n",
       "    <tr>\n",
       "      <th>128352</th>\n",
       "      <td>2018</td>\n",
       "      <td>2</td>\n",
       "      <td>BOSTON BEER CORPORATION</td>\n",
       "      <td>99988</td>\n",
       "      <td>SAM ADAMS COLD SNAP 1/6 KG</td>\n",
       "      <td>KEGS</td>\n",
       "      <td>0.00</td>\n",
       "      <td>0.0</td>\n",
       "      <td>32.0</td>\n",
       "    </tr>\n",
       "    <tr>\n",
       "      <th>128353</th>\n",
       "      <td>2018</td>\n",
       "      <td>2</td>\n",
       "      <td>NaN</td>\n",
       "      <td>BC</td>\n",
       "      <td>BEER CREDIT</td>\n",
       "      <td>REF</td>\n",
       "      <td>0.00</td>\n",
       "      <td>0.0</td>\n",
       "      <td>-35.0</td>\n",
       "    </tr>\n",
       "    <tr>\n",
       "      <th>128354</th>\n",
       "      <td>2018</td>\n",
       "      <td>2</td>\n",
       "      <td>NaN</td>\n",
       "      <td>WC</td>\n",
       "      <td>WINE CREDIT</td>\n",
       "      <td>REF</td>\n",
       "      <td>0.00</td>\n",
       "      <td>0.0</td>\n",
       "      <td>-81.0</td>\n",
       "    </tr>\n",
       "  </tbody>\n",
       "</table>\n",
       "<p>128355 rows × 9 columns</p>\n",
       "</div>"
      ],
      "text/plain": [
       "        YEAR  MONTH                      SUPPLIER ITEM CODE  \\\n",
       "0       2017      4               ROYAL WINE CORP    100200   \n",
       "1       2017      4      SANTA MARGHERITA USA INC    100749   \n",
       "2       2017      4            JIM BEAM BRANDS CO     10103   \n",
       "3       2017      4  HEAVEN HILL DISTILLERIES INC     10120   \n",
       "4       2017      4               ROYAL WINE CORP    101664   \n",
       "...      ...    ...                           ...       ...   \n",
       "128350  2018      2            ANHEUSER BUSCH INC      9997   \n",
       "128351  2018      2   COASTAL BREWING COMPANY LLC     99970   \n",
       "128352  2018      2       BOSTON BEER CORPORATION     99988   \n",
       "128353  2018      2                           NaN        BC   \n",
       "128354  2018      2                           NaN        WC   \n",
       "\n",
       "                               ITEM DESCRIPTION ITEM TYPE  RETAIL SALES  \\\n",
       "0                             GAMLA CAB - 750ML      WINE          0.00   \n",
       "1          SANTA MARGHERITA P/GRIG ALTO - 375ML      WINE          0.00   \n",
       "2         KNOB CREEK BOURBON 9YR - 100P - 375ML    LIQUOR          0.00   \n",
       "3                 J W DANT BOURBON 100P - 1.75L    LIQUOR          0.00   \n",
       "4                   RAMON CORDOVA RIOJA - 750ML      WINE          0.00   \n",
       "...                                         ...       ...           ...   \n",
       "128350                  HOEGAARDEN 4/6NR - 12OZ      BEER         66.46   \n",
       "128351  DOMINION OAK BARREL STOUT 4/6 NR - 12OZ      BEER          9.08   \n",
       "128352               SAM ADAMS COLD SNAP 1/6 KG      KEGS          0.00   \n",
       "128353                              BEER CREDIT       REF          0.00   \n",
       "128354                              WINE CREDIT       REF          0.00   \n",
       "\n",
       "        RETAIL TRANSFERS  WAREHOUSE SALES  \n",
       "0                    1.0              0.0  \n",
       "1                    1.0              0.0  \n",
       "2                    8.0              0.0  \n",
       "3                    2.0              0.0  \n",
       "4                    4.0              0.0  \n",
       "...                  ...              ...  \n",
       "128350              59.0            212.0  \n",
       "128351               7.0             35.0  \n",
       "128352               0.0             32.0  \n",
       "128353               0.0            -35.0  \n",
       "128354               0.0            -81.0  \n",
       "\n",
       "[128355 rows x 9 columns]"
      ]
     },
     "execution_count": 2,
     "metadata": {},
     "output_type": "execute_result"
    }
   ],
   "source": [
    "data = pd.read_csv(\"../Warehouse/Warehouse_and_Retail_Sales.csv\")\n",
    "data"
   ]
  },
  {
   "cell_type": "markdown",
   "metadata": {},
   "source": [
    "# Limpiar"
   ]
  },
  {
   "cell_type": "code",
   "execution_count": 3,
   "metadata": {},
   "outputs": [
    {
     "data": {
      "text/html": [
       "<div>\n",
       "<style scoped>\n",
       "    .dataframe tbody tr th:only-of-type {\n",
       "        vertical-align: middle;\n",
       "    }\n",
       "\n",
       "    .dataframe tbody tr th {\n",
       "        vertical-align: top;\n",
       "    }\n",
       "\n",
       "    .dataframe thead th {\n",
       "        text-align: right;\n",
       "    }\n",
       "</style>\n",
       "<table border=\"1\" class=\"dataframe\">\n",
       "  <thead>\n",
       "    <tr style=\"text-align: right;\">\n",
       "      <th></th>\n",
       "      <th>YEAR</th>\n",
       "      <th>MONTH</th>\n",
       "      <th>SUPPLIER</th>\n",
       "      <th>ITEM DESCRIPTION</th>\n",
       "      <th>ITEM TYPE</th>\n",
       "      <th>RETAIL SALES</th>\n",
       "    </tr>\n",
       "  </thead>\n",
       "  <tbody>\n",
       "    <tr>\n",
       "      <th>0</th>\n",
       "      <td>2017</td>\n",
       "      <td>4</td>\n",
       "      <td>ROYAL WINE CORP</td>\n",
       "      <td>GAMLA CAB - 750ML</td>\n",
       "      <td>WINE</td>\n",
       "      <td>0.00</td>\n",
       "    </tr>\n",
       "    <tr>\n",
       "      <th>1</th>\n",
       "      <td>2017</td>\n",
       "      <td>4</td>\n",
       "      <td>SANTA MARGHERITA USA INC</td>\n",
       "      <td>SANTA MARGHERITA P/GRIG ALTO - 375ML</td>\n",
       "      <td>WINE</td>\n",
       "      <td>0.00</td>\n",
       "    </tr>\n",
       "    <tr>\n",
       "      <th>2</th>\n",
       "      <td>2017</td>\n",
       "      <td>4</td>\n",
       "      <td>JIM BEAM BRANDS CO</td>\n",
       "      <td>KNOB CREEK BOURBON 9YR - 100P - 375ML</td>\n",
       "      <td>LIQUOR</td>\n",
       "      <td>0.00</td>\n",
       "    </tr>\n",
       "    <tr>\n",
       "      <th>3</th>\n",
       "      <td>2017</td>\n",
       "      <td>4</td>\n",
       "      <td>HEAVEN HILL DISTILLERIES INC</td>\n",
       "      <td>J W DANT BOURBON 100P - 1.75L</td>\n",
       "      <td>LIQUOR</td>\n",
       "      <td>0.00</td>\n",
       "    </tr>\n",
       "    <tr>\n",
       "      <th>4</th>\n",
       "      <td>2017</td>\n",
       "      <td>4</td>\n",
       "      <td>ROYAL WINE CORP</td>\n",
       "      <td>RAMON CORDOVA RIOJA - 750ML</td>\n",
       "      <td>WINE</td>\n",
       "      <td>0.00</td>\n",
       "    </tr>\n",
       "    <tr>\n",
       "      <th>...</th>\n",
       "      <td>...</td>\n",
       "      <td>...</td>\n",
       "      <td>...</td>\n",
       "      <td>...</td>\n",
       "      <td>...</td>\n",
       "      <td>...</td>\n",
       "    </tr>\n",
       "    <tr>\n",
       "      <th>128350</th>\n",
       "      <td>2018</td>\n",
       "      <td>2</td>\n",
       "      <td>ANHEUSER BUSCH INC</td>\n",
       "      <td>HOEGAARDEN 4/6NR - 12OZ</td>\n",
       "      <td>BEER</td>\n",
       "      <td>66.46</td>\n",
       "    </tr>\n",
       "    <tr>\n",
       "      <th>128351</th>\n",
       "      <td>2018</td>\n",
       "      <td>2</td>\n",
       "      <td>COASTAL BREWING COMPANY LLC</td>\n",
       "      <td>DOMINION OAK BARREL STOUT 4/6 NR - 12OZ</td>\n",
       "      <td>BEER</td>\n",
       "      <td>9.08</td>\n",
       "    </tr>\n",
       "    <tr>\n",
       "      <th>128352</th>\n",
       "      <td>2018</td>\n",
       "      <td>2</td>\n",
       "      <td>BOSTON BEER CORPORATION</td>\n",
       "      <td>SAM ADAMS COLD SNAP 1/6 KG</td>\n",
       "      <td>KEGS</td>\n",
       "      <td>0.00</td>\n",
       "    </tr>\n",
       "    <tr>\n",
       "      <th>128353</th>\n",
       "      <td>2018</td>\n",
       "      <td>2</td>\n",
       "      <td>NaN</td>\n",
       "      <td>BEER CREDIT</td>\n",
       "      <td>REF</td>\n",
       "      <td>0.00</td>\n",
       "    </tr>\n",
       "    <tr>\n",
       "      <th>128354</th>\n",
       "      <td>2018</td>\n",
       "      <td>2</td>\n",
       "      <td>NaN</td>\n",
       "      <td>WINE CREDIT</td>\n",
       "      <td>REF</td>\n",
       "      <td>0.00</td>\n",
       "    </tr>\n",
       "  </tbody>\n",
       "</table>\n",
       "<p>128355 rows × 6 columns</p>\n",
       "</div>"
      ],
      "text/plain": [
       "        YEAR  MONTH                      SUPPLIER  \\\n",
       "0       2017      4               ROYAL WINE CORP   \n",
       "1       2017      4      SANTA MARGHERITA USA INC   \n",
       "2       2017      4            JIM BEAM BRANDS CO   \n",
       "3       2017      4  HEAVEN HILL DISTILLERIES INC   \n",
       "4       2017      4               ROYAL WINE CORP   \n",
       "...      ...    ...                           ...   \n",
       "128350  2018      2            ANHEUSER BUSCH INC   \n",
       "128351  2018      2   COASTAL BREWING COMPANY LLC   \n",
       "128352  2018      2       BOSTON BEER CORPORATION   \n",
       "128353  2018      2                           NaN   \n",
       "128354  2018      2                           NaN   \n",
       "\n",
       "                               ITEM DESCRIPTION ITEM TYPE  RETAIL SALES  \n",
       "0                             GAMLA CAB - 750ML      WINE          0.00  \n",
       "1          SANTA MARGHERITA P/GRIG ALTO - 375ML      WINE          0.00  \n",
       "2         KNOB CREEK BOURBON 9YR - 100P - 375ML    LIQUOR          0.00  \n",
       "3                 J W DANT BOURBON 100P - 1.75L    LIQUOR          0.00  \n",
       "4                   RAMON CORDOVA RIOJA - 750ML      WINE          0.00  \n",
       "...                                         ...       ...           ...  \n",
       "128350                  HOEGAARDEN 4/6NR - 12OZ      BEER         66.46  \n",
       "128351  DOMINION OAK BARREL STOUT 4/6 NR - 12OZ      BEER          9.08  \n",
       "128352               SAM ADAMS COLD SNAP 1/6 KG      KEGS          0.00  \n",
       "128353                              BEER CREDIT       REF          0.00  \n",
       "128354                              WINE CREDIT       REF          0.00  \n",
       "\n",
       "[128355 rows x 6 columns]"
      ]
     },
     "execution_count": 3,
     "metadata": {},
     "output_type": "execute_result"
    }
   ],
   "source": [
    "#Filtrar y quedarnos con algunas de las columnas\n",
    "dataframe = pd.DataFrame(data)\n",
    "dataframe= dataframe[['YEAR','MONTH','SUPPLIER','ITEM DESCRIPTION','ITEM TYPE','RETAIL SALES']]\n",
    "dataframe"
   ]
  },
  {
   "cell_type": "code",
   "execution_count": 4,
   "metadata": {},
   "outputs": [
    {
     "data": {
      "text/plain": [
       "YEAR                  int64\n",
       "MONTH                 int64\n",
       "SUPPLIER             object\n",
       "ITEM DESCRIPTION     object\n",
       "ITEM TYPE            object\n",
       "RETAIL SALES        float64\n",
       "dtype: object"
      ]
     },
     "execution_count": 4,
     "metadata": {},
     "output_type": "execute_result"
    }
   ],
   "source": [
    "dataframe.dtypes"
   ]
  },
  {
   "cell_type": "code",
   "execution_count": 5,
   "metadata": {},
   "outputs": [
    {
     "name": "stdout",
     "output_type": "stream",
     "text": [
      "1\n"
     ]
    },
    {
     "data": {
      "text/plain": [
       "YEAR                 0\n",
       "MONTH                0\n",
       "SUPPLIER            24\n",
       "ITEM DESCRIPTION     0\n",
       "ITEM TYPE            1\n",
       "RETAIL SALES         0\n",
       "dtype: int64"
      ]
     },
     "execution_count": 5,
     "metadata": {},
     "output_type": "execute_result"
    }
   ],
   "source": [
    "#Verificar si hay duplicados (y eliminarlos si hubiera)\n",
    "bool_series = dataframe.duplicated()\n",
    "bool_series\n",
    "count = 0\n",
    "for i in bool_series:\n",
    "    if i==True:\n",
    "        count=+1\n",
    "print(count) #0\n",
    "\n",
    "#Verificar si hay nulos y eliminarlos\n",
    "dataframe.isnull().sum()\n"
   ]
  },
  {
   "cell_type": "code",
   "execution_count": 6,
   "metadata": {},
   "outputs": [
    {
     "data": {
      "text/html": [
       "<div>\n",
       "<style scoped>\n",
       "    .dataframe tbody tr th:only-of-type {\n",
       "        vertical-align: middle;\n",
       "    }\n",
       "\n",
       "    .dataframe tbody tr th {\n",
       "        vertical-align: top;\n",
       "    }\n",
       "\n",
       "    .dataframe thead th {\n",
       "        text-align: right;\n",
       "    }\n",
       "</style>\n",
       "<table border=\"1\" class=\"dataframe\">\n",
       "  <thead>\n",
       "    <tr style=\"text-align: right;\">\n",
       "      <th></th>\n",
       "      <th>YEAR</th>\n",
       "      <th>MONTH</th>\n",
       "      <th>RETAIL SALES</th>\n",
       "    </tr>\n",
       "  </thead>\n",
       "  <tbody>\n",
       "    <tr>\n",
       "      <th>count</th>\n",
       "      <td>128355.000000</td>\n",
       "      <td>128355.000000</td>\n",
       "      <td>128355.000000</td>\n",
       "    </tr>\n",
       "    <tr>\n",
       "      <th>mean</th>\n",
       "      <td>2017.206030</td>\n",
       "      <td>7.079303</td>\n",
       "      <td>6.563037</td>\n",
       "    </tr>\n",
       "    <tr>\n",
       "      <th>std</th>\n",
       "      <td>0.404454</td>\n",
       "      <td>3.645826</td>\n",
       "      <td>28.924944</td>\n",
       "    </tr>\n",
       "    <tr>\n",
       "      <th>min</th>\n",
       "      <td>2017.000000</td>\n",
       "      <td>1.000000</td>\n",
       "      <td>-6.490000</td>\n",
       "    </tr>\n",
       "    <tr>\n",
       "      <th>25%</th>\n",
       "      <td>2017.000000</td>\n",
       "      <td>5.000000</td>\n",
       "      <td>0.000000</td>\n",
       "    </tr>\n",
       "    <tr>\n",
       "      <th>50%</th>\n",
       "      <td>2017.000000</td>\n",
       "      <td>8.000000</td>\n",
       "      <td>0.330000</td>\n",
       "    </tr>\n",
       "    <tr>\n",
       "      <th>75%</th>\n",
       "      <td>2017.000000</td>\n",
       "      <td>10.000000</td>\n",
       "      <td>3.250000</td>\n",
       "    </tr>\n",
       "    <tr>\n",
       "      <th>max</th>\n",
       "      <td>2018.000000</td>\n",
       "      <td>12.000000</td>\n",
       "      <td>1616.600000</td>\n",
       "    </tr>\n",
       "  </tbody>\n",
       "</table>\n",
       "</div>"
      ],
      "text/plain": [
       "                YEAR          MONTH   RETAIL SALES\n",
       "count  128355.000000  128355.000000  128355.000000\n",
       "mean     2017.206030       7.079303       6.563037\n",
       "std         0.404454       3.645826      28.924944\n",
       "min      2017.000000       1.000000      -6.490000\n",
       "25%      2017.000000       5.000000       0.000000\n",
       "50%      2017.000000       8.000000       0.330000\n",
       "75%      2017.000000      10.000000       3.250000\n",
       "max      2018.000000      12.000000    1616.600000"
      ]
     },
     "execution_count": 6,
     "metadata": {},
     "output_type": "execute_result"
    }
   ],
   "source": [
    "dataframe.describe()"
   ]
  },
  {
   "cell_type": "code",
   "execution_count": 7,
   "metadata": {},
   "outputs": [
    {
     "data": {
      "text/plain": [
       "YEAR                0\n",
       "MONTH               0\n",
       "SUPPLIER            0\n",
       "ITEM DESCRIPTION    0\n",
       "ITEM TYPE           0\n",
       "RETAIL SALES        0\n",
       "dtype: int64"
      ]
     },
     "execution_count": 7,
     "metadata": {},
     "output_type": "execute_result"
    }
   ],
   "source": [
    "#dataframe.SUPPLIER.dropna()\n",
    "dataframe.dropna(subset=['SUPPLIER','ITEM TYPE'],inplace=True)\n",
    "dataframe.isnull().sum()\n"
   ]
  },
  {
   "cell_type": "code",
   "execution_count": 8,
   "metadata": {},
   "outputs": [
    {
     "data": {
      "text/html": [
       "<div>\n",
       "<style scoped>\n",
       "    .dataframe tbody tr th:only-of-type {\n",
       "        vertical-align: middle;\n",
       "    }\n",
       "\n",
       "    .dataframe tbody tr th {\n",
       "        vertical-align: top;\n",
       "    }\n",
       "\n",
       "    .dataframe thead th {\n",
       "        text-align: right;\n",
       "    }\n",
       "</style>\n",
       "<table border=\"1\" class=\"dataframe\">\n",
       "  <thead>\n",
       "    <tr style=\"text-align: right;\">\n",
       "      <th></th>\n",
       "      <th>YEAR</th>\n",
       "      <th>MONTH</th>\n",
       "      <th>SUPPLIER</th>\n",
       "      <th>ITEM DESCRIPTION</th>\n",
       "      <th>ITEM TYPE</th>\n",
       "      <th>RETAIL SALES</th>\n",
       "    </tr>\n",
       "  </thead>\n",
       "  <tbody>\n",
       "    <tr>\n",
       "      <th>0</th>\n",
       "      <td>2017</td>\n",
       "      <td>4</td>\n",
       "      <td>ROYAL WINE CORP</td>\n",
       "      <td>GAMLA CAB - 750ML</td>\n",
       "      <td>WINE</td>\n",
       "      <td>0.00</td>\n",
       "    </tr>\n",
       "    <tr>\n",
       "      <th>1</th>\n",
       "      <td>2017</td>\n",
       "      <td>4</td>\n",
       "      <td>SANTA MARGHERITA USA INC</td>\n",
       "      <td>SANTA MARGHERITA P/GRIG ALTO - 375ML</td>\n",
       "      <td>WINE</td>\n",
       "      <td>0.00</td>\n",
       "    </tr>\n",
       "    <tr>\n",
       "      <th>2</th>\n",
       "      <td>2017</td>\n",
       "      <td>4</td>\n",
       "      <td>JIM BEAM BRANDS CO</td>\n",
       "      <td>KNOB CREEK BOURBON 9YR - 100P - 375ML</td>\n",
       "      <td>LIQUOR</td>\n",
       "      <td>0.00</td>\n",
       "    </tr>\n",
       "    <tr>\n",
       "      <th>3</th>\n",
       "      <td>2017</td>\n",
       "      <td>4</td>\n",
       "      <td>HEAVEN HILL DISTILLERIES INC</td>\n",
       "      <td>J W DANT BOURBON 100P - 1.75L</td>\n",
       "      <td>LIQUOR</td>\n",
       "      <td>0.00</td>\n",
       "    </tr>\n",
       "    <tr>\n",
       "      <th>4</th>\n",
       "      <td>2017</td>\n",
       "      <td>4</td>\n",
       "      <td>ROYAL WINE CORP</td>\n",
       "      <td>RAMON CORDOVA RIOJA - 750ML</td>\n",
       "      <td>WINE</td>\n",
       "      <td>0.00</td>\n",
       "    </tr>\n",
       "    <tr>\n",
       "      <th>...</th>\n",
       "      <td>...</td>\n",
       "      <td>...</td>\n",
       "      <td>...</td>\n",
       "      <td>...</td>\n",
       "      <td>...</td>\n",
       "      <td>...</td>\n",
       "    </tr>\n",
       "    <tr>\n",
       "      <th>128348</th>\n",
       "      <td>2018</td>\n",
       "      <td>2</td>\n",
       "      <td>LEGENDS LTD</td>\n",
       "      <td>DUTCHESS DE BOURGOGNE NR - 750ML</td>\n",
       "      <td>BEER</td>\n",
       "      <td>0.00</td>\n",
       "    </tr>\n",
       "    <tr>\n",
       "      <th>128349</th>\n",
       "      <td>2018</td>\n",
       "      <td>2</td>\n",
       "      <td>COASTAL BREWING COMPANY LLC</td>\n",
       "      <td>DOMINION OAK BARREL STOUT 1/2K</td>\n",
       "      <td>KEGS</td>\n",
       "      <td>0.00</td>\n",
       "    </tr>\n",
       "    <tr>\n",
       "      <th>128350</th>\n",
       "      <td>2018</td>\n",
       "      <td>2</td>\n",
       "      <td>ANHEUSER BUSCH INC</td>\n",
       "      <td>HOEGAARDEN 4/6NR - 12OZ</td>\n",
       "      <td>BEER</td>\n",
       "      <td>66.46</td>\n",
       "    </tr>\n",
       "    <tr>\n",
       "      <th>128351</th>\n",
       "      <td>2018</td>\n",
       "      <td>2</td>\n",
       "      <td>COASTAL BREWING COMPANY LLC</td>\n",
       "      <td>DOMINION OAK BARREL STOUT 4/6 NR - 12OZ</td>\n",
       "      <td>BEER</td>\n",
       "      <td>9.08</td>\n",
       "    </tr>\n",
       "    <tr>\n",
       "      <th>128352</th>\n",
       "      <td>2018</td>\n",
       "      <td>2</td>\n",
       "      <td>BOSTON BEER CORPORATION</td>\n",
       "      <td>SAM ADAMS COLD SNAP 1/6 KG</td>\n",
       "      <td>KEGS</td>\n",
       "      <td>0.00</td>\n",
       "    </tr>\n",
       "  </tbody>\n",
       "</table>\n",
       "<p>128330 rows × 6 columns</p>\n",
       "</div>"
      ],
      "text/plain": [
       "        YEAR  MONTH                      SUPPLIER  \\\n",
       "0       2017      4               ROYAL WINE CORP   \n",
       "1       2017      4      SANTA MARGHERITA USA INC   \n",
       "2       2017      4            JIM BEAM BRANDS CO   \n",
       "3       2017      4  HEAVEN HILL DISTILLERIES INC   \n",
       "4       2017      4               ROYAL WINE CORP   \n",
       "...      ...    ...                           ...   \n",
       "128348  2018      2                   LEGENDS LTD   \n",
       "128349  2018      2   COASTAL BREWING COMPANY LLC   \n",
       "128350  2018      2            ANHEUSER BUSCH INC   \n",
       "128351  2018      2   COASTAL BREWING COMPANY LLC   \n",
       "128352  2018      2       BOSTON BEER CORPORATION   \n",
       "\n",
       "                               ITEM DESCRIPTION ITEM TYPE  RETAIL SALES  \n",
       "0                             GAMLA CAB - 750ML      WINE          0.00  \n",
       "1          SANTA MARGHERITA P/GRIG ALTO - 375ML      WINE          0.00  \n",
       "2         KNOB CREEK BOURBON 9YR - 100P - 375ML    LIQUOR          0.00  \n",
       "3                 J W DANT BOURBON 100P - 1.75L    LIQUOR          0.00  \n",
       "4                   RAMON CORDOVA RIOJA - 750ML      WINE          0.00  \n",
       "...                                         ...       ...           ...  \n",
       "128348         DUTCHESS DE BOURGOGNE NR - 750ML      BEER          0.00  \n",
       "128349           DOMINION OAK BARREL STOUT 1/2K      KEGS          0.00  \n",
       "128350                  HOEGAARDEN 4/6NR - 12OZ      BEER         66.46  \n",
       "128351  DOMINION OAK BARREL STOUT 4/6 NR - 12OZ      BEER          9.08  \n",
       "128352               SAM ADAMS COLD SNAP 1/6 KG      KEGS          0.00  \n",
       "\n",
       "[128330 rows x 6 columns]"
      ]
     },
     "execution_count": 8,
     "metadata": {},
     "output_type": "execute_result"
    }
   ],
   "source": [
    "dataframe"
   ]
  },
  {
   "cell_type": "markdown",
   "metadata": {},
   "source": [
    "# Estadísticas\n"
   ]
  },
  {
   "cell_type": "code",
   "execution_count": 9,
   "metadata": {},
   "outputs": [],
   "source": [
    "# Preguntas:\n",
    "# Cuales son las ventas por mes? En qué mes hubieron más ventas?\n",
    "# Qué tipos de productos son los que más se vendieron? Qué tipos de productos no se vendieron?\n",
    "# Qué proveedor es del que se vendió mas y menos?\n",
    "# Cuantos proveedores no tuvieron ventas?\n",
    "# Cómo se distribuyen las ventas por proveedor?\n"
   ]
  },
  {
   "cell_type": "code",
   "execution_count": 10,
   "metadata": {},
   "outputs": [
    {
     "data": {
      "text/plain": [
       "MONTH\n",
       "4          0.00\n",
       "1      75791.77\n",
       "2      77804.13\n",
       "8      87111.78\n",
       "10     89236.96\n",
       "9      90452.60\n",
       "5      94693.49\n",
       "6      97357.26\n",
       "11     98316.19\n",
       "12    131634.49\n",
       "Name: RETAIL SALES, dtype: float64"
      ]
     },
     "execution_count": 10,
     "metadata": {},
     "output_type": "execute_result"
    }
   ],
   "source": [
    "#Total de ventas por mes\n",
    "total_month_sales=dataframe.groupby('MONTH')['RETAIL SALES'].sum().sort_values(ascending=True)\n",
    "#se vende más en diciembre y menos en abril\n",
    "total_month_sales"
   ]
  },
  {
   "cell_type": "code",
   "execution_count": 11,
   "metadata": {},
   "outputs": [
    {
     "data": {
      "text/plain": [
       "ITEM TYPE\n",
       "WINE            313400.42\n",
       "LIQUOR          309847.85\n",
       "BEER            209763.11\n",
       "NON-ALCOHOL       8109.97\n",
       "STR_SUPPLIES       995.98\n",
       "Name: RETAIL SALES, dtype: float64"
      ]
     },
     "execution_count": 11,
     "metadata": {},
     "output_type": "execute_result"
    }
   ],
   "source": [
    "product_sales=dataframe.groupby('ITEM TYPE')['RETAIL SALES'].sum().sort_values(ascending=False)\n",
    "product_sales.head()\n"
   ]
  },
  {
   "cell_type": "code",
   "execution_count": 12,
   "metadata": {},
   "outputs": [],
   "source": [
    "item_type_retail=dataframe.groupby('ITEM TYPE')['RETAIL SALES'].sum().sort_values(ascending=True)\n",
    "#Dunnage y Kegs"
   ]
  },
  {
   "cell_type": "code",
   "execution_count": 13,
   "metadata": {},
   "outputs": [
    {
     "data": {
      "text/plain": [
       "SUPPLIER                           ITEM TYPE\n",
       "A VINTNERS SELECTIONS              WINE         7987\n",
       "REPUBLIC NATIONAL DISTRIBUTING CO  WINE         7801\n",
       "MONSIEUR TOUTON SELECTION          WINE         4239\n",
       "LEGENDS LTD                        BEER         4177\n",
       "E & J GALLO WINERY                 WINE         3990\n",
       "                                                ... \n",
       "FIORE WINERY                       WINE            1\n",
       "BLACK ANKLE VINEYARDS LLC          WINE            1\n",
       "URUGUAY IMPORTS LTD                WINE            1\n",
       "CALVERT BREWING COMPANY            BEER            1\n",
       "LABATT USA OPERATING CO LLC        KEGS            1\n",
       "Name: ITEM TYPE, Length: 504, dtype: int64"
      ]
     },
     "execution_count": 13,
     "metadata": {},
     "output_type": "execute_result"
    }
   ],
   "source": [
    "supplier_count=dataframe.groupby('SUPPLIER')['ITEM TYPE'].value_counts().sort_values(ascending=False)\n",
    "supplier_count\n",
    "#A VINTNERS SELECTIONS  \n"
   ]
  },
  {
   "cell_type": "code",
   "execution_count": 33,
   "metadata": {},
   "outputs": [
    {
     "data": {
      "text/plain": [
       "<bound method NDFrame.head of SUPPLIER\n",
       "E & J GALLO WINERY               67455.63\n",
       "DIAGEO NORTH AMERICA INC         57656.36\n",
       "CONSTELLATION BRANDS             54472.51\n",
       "ANHEUSER BUSCH INC               42559.14\n",
       "JIM BEAM BRANDS CO               39156.79\n",
       "                                   ...   \n",
       "VINTAGE VIRGINIA APPLES              0.16\n",
       "FAROPIAN SPIRITS LTD                 0.16\n",
       "FIORE WINERY                         0.16\n",
       "BLACK ANKLE VINEYARDS LLC            0.08\n",
       "PLUME RIDGE IRREVOCABLE TRUST        0.08\n",
       "Name: RETAIL SALES, Length: 316, dtype: float64>"
      ]
     },
     "execution_count": 33,
     "metadata": {},
     "output_type": "execute_result"
    }
   ],
   "source": [
    "supplier_sales_min=dataframe.groupby('SUPPLIER')['RETAIL SALES'].sum().sort_values(ascending=True)\n",
    "supplier_sales_filtered_min=supplier_sales_min[supplier_sales_min!=0]\n",
    "supplier_sales_filtered_min.head()\n",
    "supplier_sales_max=dataframe.groupby('SUPPLIER')['RETAIL SALES'].sum().sort_values(ascending=False)\n",
    "supplier_sales_filtered_max=supplier_sales_max[supplier_sales_max!=0]\n",
    "\n",
    "supplier_sales_filtered_max.head"
   ]
  },
  {
   "cell_type": "markdown",
   "metadata": {},
   "source": []
  },
  {
   "cell_type": "code",
   "execution_count": 42,
   "metadata": {},
   "outputs": [
    {
     "name": "stdout",
     "output_type": "stream",
     "text": [
      "Proveedores con ventas 0:  17\n",
      "Total de proveedores:  333\n",
      "Eso representa el  5.105105105105105  %\n"
     ]
    }
   ],
   "source": [
    "supplier_sales_filtered_zero=supplier_sales_max[supplier_sales_max==0]\n",
    "zero_supplier_count=supplier_sales_filtered_zero.count()\n",
    "total_supplier_count=supplier_sales_max.count()\n",
    "print(\"Proveedores con ventas 0: \",zero_supplier_count)\n",
    "print(\"Total de proveedores: \",total_supplier_count)\n",
    "print(\"Eso representa el \",zero_supplier_count*100/total_supplier_count,\" %\")"
   ]
  },
  {
   "cell_type": "code",
   "execution_count": 15,
   "metadata": {},
   "outputs": [],
   "source": [
    "\n",
    "\n",
    "supplier_sales_7=supplier_sales_min[supplier_sales_min>=60000].count()\n",
    "supplier_sales_6=supplier_sales_min[supplier_sales_min>=50000].count()-supplier_sales_7\n",
    "supplier_sales_5=supplier_sales_min[supplier_sales_min>=40000].count()-(supplier_sales_7+supplier_sales_6)\n",
    "supplier_sales_4=supplier_sales_min[supplier_sales_min>=30000].count()-(supplier_sales_7+supplier_sales_6+supplier_sales_5)\n",
    "\n",
    "supplier_sales_0=supplier_sales_min[supplier_sales_min==0].count()\n",
    "supplier_sales_1=supplier_sales_min[supplier_sales_min<10000].count()-supplier_sales_0\n",
    "supplier_sales_2=supplier_sales_min[supplier_sales_min<20000].count()-(supplier_sales_0+supplier_sales_1)\n",
    "supplier_sales_3=supplier_sales_min[supplier_sales_min<30000].count()-(supplier_sales_0+supplier_sales_1+supplier_sales_2)\n",
    "\n",
    "#supplier_sales_0#17 proveedores tienen 0 en ventas\n",
    "#supplier_sales_0+supplier_sales_1+supplier_sales_2+supplier_sales_3+supplier_sales_4+supplier_sales_5+supplier_sales_6+supplier_sales_7\n",
    "#supplier_sales.count()\n",
    "# for index, row in supplier_sales.iteritems(): \n",
    "#     supplier_sales.drop[index]"
   ]
  },
  {
   "cell_type": "code",
   "execution_count": 16,
   "metadata": {},
   "outputs": [
    {
     "data": {
      "text/plain": [
       "[<matplotlib.lines.Line2D at 0x22e51250ca0>]"
      ]
     },
     "execution_count": 16,
     "metadata": {},
     "output_type": "execute_result"
    },
    {
     "data": {
      "image/png": "[encoded data removed]",
      "text/plain": [
       "<Figure size 432x288 with 1 Axes>"
      ]
     },
     "metadata": {
      "needs_background": "light"
     },
     "output_type": "display_data"
    }
   ],
   "source": [
    "#plt.plot(total_month_sales,'go')\n",
    "plt.plot(total_month_sales, color='green', marker='o', linestyle='dashed',     linewidth=2, markersize=12)\n"
   ]
  },
  {
   "cell_type": "code",
   "execution_count": 17,
   "metadata": {},
   "outputs": [
    {
     "data": {
      "text/plain": [
       "<AxesSubplot:>"
      ]
     },
     "execution_count": 17,
     "metadata": {},
     "output_type": "execute_result"
    },
    {
     "data": {
      "image/png": "[encoded data removed]",
      "text/plain": [
       "<Figure size 432x288 with 1 Axes>"
      ]
     },
     "metadata": {
      "needs_background": "light"
     },
     "output_type": "display_data"
    }
   ],
   "source": [
    "plotdata = pd.DataFrame(\n",
    "    {\"Sales\": [supplier_sales_0,supplier_sales_1,supplier_sales_2,supplier_sales_3,\n",
    "    supplier_sales_4,supplier_sales_5,supplier_sales_6,supplier_sales_7]}, \n",
    "    index=[\"0\", \"10\", \"20\", \"30\", \"40\", \"50\", \"60\",\"70\"])\n",
    "# Plot a bar chart\n",
    "plotdata.plot(kind=\"bar\")"
   ]
  },
  {
   "cell_type": "code",
   "execution_count": 30,
   "metadata": {},
   "outputs": [
    {
     "data": {
      "text/plain": [
       "<AxesSubplot:xlabel='SUPPLIER'>"
      ]
     },
     "execution_count": 30,
     "metadata": {},
     "output_type": "execute_result"
    },
    {
     "data": {
      "image/png": "[encoded data removed]",
      "text/plain": [
       "<Figure size 432x288 with 1 Axes>"
      ]
     },
     "metadata": {
      "needs_background": "light"
     },
     "output_type": "display_data"
    }
   ],
   "source": [
    "supplier_sales_filtered_max.head().plot.bar()\n"
   ]
  },
  {
   "cell_type": "code",
   "execution_count": 32,
   "metadata": {},
   "outputs": [
    {
     "data": {
      "text/plain": [
       "<AxesSubplot:xlabel='SUPPLIER'>"
      ]
     },
     "execution_count": 32,
     "metadata": {},
     "output_type": "execute_result"
    },
    {
     "data": {
      "image/png": "[encoded data removed]",
      "text/plain": [
       "<Figure size 432x288 with 1 Axes>"
      ]
     },
     "metadata": {
      "needs_background": "light"
     },
     "output_type": "display_data"
    }
   ],
   "source": [
    "supplier_sales_filtered_min.head().plot.bar()"
   ]
  },
  {
   "cell_type": "code",
   "execution_count": 46,
   "metadata": {},
   "outputs": [
    {
     "data": {
      "text/plain": [
       "<AxesSubplot:ylabel='None'>"
      ]
     },
     "execution_count": 46,
     "metadata": {},
     "output_type": "execute_result"
    },
    {
     "data": {
      "image/png": "[encoded data removed]",
      "text/plain": [
       "<Figure size 432x288 with 1 Axes>"
      ]
     },
     "metadata": {},
     "output_type": "display_data"
    }
   ],
   "source": [
    "pie_graph=pd.Series(index=[\"Zero\",\"No Zero\"],\n",
    "data=[zero_supplier_count,total_supplier_count-zero_supplier_count])\n",
    "pie_graph.plot(kind=\"pie\")\n"
   ]
  },
  {
   "cell_type": "code",
   "execution_count": 18,
   "metadata": {},
   "outputs": [
    {
     "data": {
      "text/plain": [
       "<AxesSubplot:>"
      ]
     },
     "execution_count": 18,
     "metadata": {},
     "output_type": "execute_result"
    },
    {
     "data": {
      "image/png": "[encoded data removed]",
      "text/plain": [
       "<Figure size 432x288 with 1 Axes>"
      ]
     },
     "metadata": {
      "needs_background": "light"
     },
     "output_type": "display_data"
    }
   ],
   "source": [
    "supplier_sales_min.plot.box()"
   ]
  },
  {
   "cell_type": "code",
   "execution_count": 19,
   "metadata": {},
   "outputs": [
    {
     "data": {
      "text/plain": [
       "<AxesSubplot:ylabel='Frequency'>"
      ]
     },
     "execution_count": 19,
     "metadata": {},
     "output_type": "execute_result"
    },
    {
     "data": {
      "image/png": "[encoded data removed]",
      "text/plain": [
       "<Figure size 432x288 with 1 Axes>"
      ]
     },
     "metadata": {
      "needs_background": "light"
     },
     "output_type": "display_data"
    }
   ],
   "source": [
    "supplier_sales_min.plot.hist()"
   ]
  },
  {
   "cell_type": "code",
   "execution_count": 20,
   "metadata": {},
   "outputs": [
    {
     "data": {
      "text/plain": [
       "<AxesSubplot:ylabel='Frequency'>"
      ]
     },
     "execution_count": 20,
     "metadata": {},
     "output_type": "execute_result"
    },
    {
     "data": {
      "image/png": "[encoded data removed]",
      "text/plain": [
       "<Figure size 432x288 with 1 Axes>"
      ]
     },
     "metadata": {
      "needs_background": "light"
     },
     "output_type": "display_data"
    }
   ],
   "source": [
    "item_type_retail.plot.hist()"
   ]
  }
 ],
 "metadata": {
  "interpreter": {
   "hash": "bd552d726d25af6d7cdd19a0486ad34e72c1b4836ed3dd94e1b4829916c6c4b3"
  },
  "kernelspec": {
   "display_name": "Python 3.10.4 64-bit (windows store)",
   "language": "python",
   "name": "python3"
  },
  "language_info": {
   "codemirror_mode": {
    "name": "ipython",
    "version": 3
   },
   "file_extension": ".py",
   "mimetype": "text/x-python",
   "name": "python",
   "nbconvert_exporter": "python",
   "pygments_lexer": "ipython3",
   "version": "3.10.4"
  },
  "orig_nbformat": 4
 },
 "nbformat": 4,
 "nbformat_minor": 2
}
